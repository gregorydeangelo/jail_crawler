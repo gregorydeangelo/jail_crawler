{
 "cells": [
  {
   "cell_type": "code",
   "execution_count": 1,
   "metadata": {},
   "outputs": [],
   "source": [
    "from bs4 import BeautifulSoup as Soup\n",
    "import pandas as pd\n",
    "import datetime\n",
    "import requests"
   ]
  },
  {
   "cell_type": "markdown",
   "metadata": {},
   "source": [
    "## crawl"
   ]
  },
  {
   "cell_type": "code",
   "execution_count": 2,
   "metadata": {},
   "outputs": [
    {
     "data": {
      "text/html": [
       "<div>\n",
       "<style>\n",
       "    .dataframe thead tr:only-child th {\n",
       "        text-align: right;\n",
       "    }\n",
       "\n",
       "    .dataframe thead th {\n",
       "        text-align: left;\n",
       "    }\n",
       "\n",
       "    .dataframe tbody tr th {\n",
       "        vertical-align: top;\n",
       "    }\n",
       "</style>\n",
       "<table border=\"1\" class=\"dataframe\">\n",
       "  <thead>\n",
       "    <tr style=\"text-align: right;\">\n",
       "      <th></th>\n",
       "      <th>state</th>\n",
       "      <th>location1</th>\n",
       "      <th>roster_link</th>\n",
       "    </tr>\n",
       "  </thead>\n",
       "  <tbody>\n",
       "    <tr>\n",
       "      <th>0</th>\n",
       "      <td>Alabama</td>\n",
       "      <td>morgan</td>\n",
       "      <td>97.82.20.116/jailinmates.aspx</td>\n",
       "    </tr>\n",
       "    <tr>\n",
       "      <th>1</th>\n",
       "      <td>Indiana</td>\n",
       "      <td>boone</td>\n",
       "      <td>https://jailtracker.com/jtclientweb/(S(3pzyks5...</td>\n",
       "    </tr>\n",
       "    <tr>\n",
       "      <th>2</th>\n",
       "      <td>Indiana</td>\n",
       "      <td>laporte</td>\n",
       "      <td>https://omsweb.public-safety-cloud.com/jtclien...</td>\n",
       "    </tr>\n",
       "    <tr>\n",
       "      <th>3</th>\n",
       "      <td>Indiana</td>\n",
       "      <td>pulaski</td>\n",
       "      <td>http://www.jailtracker.com/pcdc/pulaski_inmate...</td>\n",
       "    </tr>\n",
       "    <tr>\n",
       "      <th>4</th>\n",
       "      <td>Indiana</td>\n",
       "      <td>st joseph</td>\n",
       "      <td>https://omsweb.public-safety-cloud.com/jtclien...</td>\n",
       "    </tr>\n",
       "  </tbody>\n",
       "</table>\n",
       "</div>"
      ],
      "text/plain": [
       "     state  location1                                        roster_link\n",
       "0  Alabama     morgan                      97.82.20.116/jailinmates.aspx\n",
       "1  Indiana      boone  https://jailtracker.com/jtclientweb/(S(3pzyks5...\n",
       "2  Indiana    laporte  https://omsweb.public-safety-cloud.com/jtclien...\n",
       "3  Indiana    pulaski  http://www.jailtracker.com/pcdc/pulaski_inmate...\n",
       "4  Indiana  st joseph  https://omsweb.public-safety-cloud.com/jtclien..."
      ]
     },
     "execution_count": 2,
     "metadata": {},
     "output_type": "execute_result"
    }
   ],
   "source": [
    "links = pd.read_csv('jail_roster.csv')\n",
    "links.head()"
   ]
  },
  {
   "cell_type": "code",
   "execution_count": 3,
   "metadata": {},
   "outputs": [
    {
     "data": {
      "text/html": [
       "<div>\n",
       "<style>\n",
       "    .dataframe thead tr:only-child th {\n",
       "        text-align: right;\n",
       "    }\n",
       "\n",
       "    .dataframe thead th {\n",
       "        text-align: left;\n",
       "    }\n",
       "\n",
       "    .dataframe tbody tr th {\n",
       "        vertical-align: top;\n",
       "    }\n",
       "</style>\n",
       "<table border=\"1\" class=\"dataframe\">\n",
       "  <thead>\n",
       "    <tr style=\"text-align: right;\">\n",
       "      <th></th>\n",
       "      <th>state</th>\n",
       "      <th>location1</th>\n",
       "      <th>roster_link</th>\n",
       "    </tr>\n",
       "  </thead>\n",
       "  <tbody>\n",
       "    <tr>\n",
       "      <th>5</th>\n",
       "      <td>California</td>\n",
       "      <td>kings</td>\n",
       "      <td>http://inmatelocator.countyofkings.com/Inmate/...</td>\n",
       "    </tr>\n",
       "  </tbody>\n",
       "</table>\n",
       "</div>"
      ],
      "text/plain": [
       "        state location1                                        roster_link\n",
       "5  California     kings  http://inmatelocator.countyofkings.com/Inmate/..."
      ]
     },
     "execution_count": 3,
     "metadata": {},
     "output_type": "execute_result"
    }
   ],
   "source": [
    "rows = links.roster_link.str.contains('inmatelocator')\n",
    "part_links = links.loc[rows]\n",
    "part_links"
   ]
  },
  {
   "cell_type": "code",
   "execution_count": 16,
   "metadata": {},
   "outputs": [],
   "source": [
    "for i in range(part_links.shape[0]):\n",
    "    today = datetime.datetime.today().strftime('%Y-%m-%d')\n",
    "    dic = []\n",
    "    entry = part_links.iloc[i]\n",
    "    state = entry['state']\n",
    "    location1 = entry['location1']\n",
    "    url = entry['roster_link']\n",
    "    headers = {'User-Agent': 'Mozilla/5.0 (Macintosh; Intel Mac OS X 10.12; rv:61.0) Gecko/20100101 Firefox/61.0'}\n",
    "    r = requests.get(url, headers = headers)\n",
    "\n",
    "    content = r.content\n",
    "    dic.append({'state':state, 'location1':location1, 'date':today, 'html':content})\n",
    "    f = open('%s_%s_%s.txt' %(state, location1, today), 'wb' )\n",
    "    f.write(content)\n",
    "    f.close()"
   ]
  },
  {
   "cell_type": "code",
   "execution_count": 11,
   "metadata": {
    "scrolled": false
   },
   "outputs": [
    {
     "data": {
      "text/html": [
       "<div>\n",
       "<style>\n",
       "    .dataframe thead tr:only-child th {\n",
       "        text-align: right;\n",
       "    }\n",
       "\n",
       "    .dataframe thead th {\n",
       "        text-align: left;\n",
       "    }\n",
       "\n",
       "    .dataframe tbody tr th {\n",
       "        vertical-align: top;\n",
       "    }\n",
       "</style>\n",
       "<table border=\"1\" class=\"dataframe\">\n",
       "  <thead>\n",
       "    <tr style=\"text-align: right;\">\n",
       "      <th></th>\n",
       "      <th>date</th>\n",
       "      <th>html</th>\n",
       "      <th>location1</th>\n",
       "      <th>state</th>\n",
       "    </tr>\n",
       "  </thead>\n",
       "  <tbody>\n",
       "    <tr>\n",
       "      <th>0</th>\n",
       "      <td>2018-07-11</td>\n",
       "      <td>b'&lt;!DOCTYPE html&gt;\\r\\n&lt;html lang=\"en\"&gt;\\r\\n&lt;head...</td>\n",
       "      <td>kings</td>\n",
       "      <td>California</td>\n",
       "    </tr>\n",
       "  </tbody>\n",
       "</table>\n",
       "</div>"
      ],
      "text/plain": [
       "         date                                               html location1  \\\n",
       "0  2018-07-11  b'<!DOCTYPE html>\\r\\n<html lang=\"en\">\\r\\n<head...     kings   \n",
       "\n",
       "        state  \n",
       "0  California  "
      ]
     },
     "execution_count": 11,
     "metadata": {},
     "output_type": "execute_result"
    }
   ],
   "source": [
    "df = pd.DataFrame.from_dict(dic)\n",
    "df"
   ]
  },
  {
   "cell_type": "markdown",
   "metadata": {},
   "source": [
    "## parse"
   ]
  },
  {
   "cell_type": "code",
   "execution_count": 36,
   "metadata": {},
   "outputs": [],
   "source": [
    "content = open(\"California_kings_2018-07-11.txt\", \"rb\").read()\n",
    "content = str(content)"
   ]
  },
  {
   "cell_type": "code",
   "execution_count": 37,
   "metadata": {
    "scrolled": true
   },
   "outputs": [],
   "source": [
    "soup = Soup(content,'lxml')"
   ]
  },
  {
   "cell_type": "code",
   "execution_count": 38,
   "metadata": {
    "scrolled": false
   },
   "outputs": [
    {
     "data": {
      "text/plain": [
       "['REYNA, DESIREE ABIGAIL',\n",
       " 'MARTINEZ, SERGIO MATHEW',\n",
       " 'SANCHEZ, CHRISTIAN',\n",
       " 'STATES, TRACEE ERIN',\n",
       " 'CUENCA, NICHOLAS ANTHONY',\n",
       " 'ECHEVESTE, JOSE LEONARDO-RIZO',\n",
       " 'HERNANDEZ, JOSE ALEJANDRO',\n",
       " 'REYES, ISMAEL',\n",
       " 'NEIGHBORS, MARK WAYNE',\n",
       " 'MARES, DANIEL ARNOLD']"
      ]
     },
     "execution_count": 38,
     "metadata": {},
     "output_type": "execute_result"
    }
   ],
   "source": [
    "l = []\n",
    "for EachPart in soup.select('a[href*=\"/Inmate/Details\"]'):\n",
    "    l.append(EachPart.get_text())\n",
    "    \n",
    "l[:10]"
   ]
  },
  {
   "cell_type": "markdown",
   "metadata": {},
   "source": [
    "## others"
   ]
  },
  {
   "cell_type": "code",
   "execution_count": 17,
   "metadata": {},
   "outputs": [],
   "source": [
    "import requests\n",
    "from selenium import webdriver\n",
    "import time"
   ]
  },
  {
   "cell_type": "code",
   "execution_count": 20,
   "metadata": {},
   "outputs": [],
   "source": [
    "browser = webdriver.Chrome()"
   ]
  },
  {
   "cell_type": "code",
   "execution_count": 23,
   "metadata": {},
   "outputs": [],
   "source": [
    "browser.get(\"http://www.interopweb.com/habersham/\")"
   ]
  },
  {
   "cell_type": "code",
   "execution_count": 27,
   "metadata": {},
   "outputs": [],
   "source": [
    "f = open('test1.txt', 'w' )\n",
    "f.write(browser.page_source)\n",
    "f.close()"
   ]
  },
  {
   "cell_type": "code",
   "execution_count": 28,
   "metadata": {},
   "outputs": [],
   "source": [
    "elem = browser.find_element_by_css_selector('td[onclick*=\"PBN\"]')\n",
    "elem.click()\n",
    "time.sleep(0.2)\n",
    "\n"
   ]
  },
  {
   "cell_type": "code",
   "execution_count": 34,
   "metadata": {
    "scrolled": false
   },
   "outputs": [],
   "source": [
    "#Soup(browser.page_source, 'lxml')"
   ]
  },
  {
   "cell_type": "code",
   "execution_count": 39,
   "metadata": {
    "scrolled": false
   },
   "outputs": [],
   "source": [
    "elem = browser.find_element_by_xpath(\"//*\")\n",
    "#print (elem.get_attribute(\"outerHTML\"))"
   ]
  }
 ],
 "metadata": {
  "kernelspec": {
   "display_name": "Python 3",
   "language": "python",
   "name": "python3"
  },
  "language_info": {
   "codemirror_mode": {
    "name": "ipython",
    "version": 3
   },
   "file_extension": ".py",
   "mimetype": "text/x-python",
   "name": "python",
   "nbconvert_exporter": "python",
   "pygments_lexer": "ipython3",
   "version": "3.6.0"
  }
 },
 "nbformat": 4,
 "nbformat_minor": 2
}
